{
 "cells": [
  {
   "cell_type": "markdown",
   "metadata": {},
   "source": [
    "# Bidirectional Search\n",
    "Here we implemented a bidirectional BFS search algorithm. That searches through the graph from the source and destination, level by level. It looks for a common node in visited nodes of forward and backward search after each level of BFS search. If it finds a common node in both of them, it will print the path using two dictionaries (parent) that specify each node's parent both in forward and backward search. Note that this printing is done by knowing the intersection, and without it, it is impossible to make a path. Also, it is good to mention that both forward and backward search is executed until one of the queues of these BFSs is empty."
   ]
  },
  {
   "cell_type": "code",
   "execution_count": 28,
   "metadata": {},
   "outputs": [],
   "source": [
    "class Node:\n",
    "\tdef __init__(self, id_, children=None):\n",
    "\t\tself.id = id_\n",
    "\t\tself.children = children\n",
    "\n",
    "\n",
    "class Graph:\n",
    "\tdef __init__(self, n):\n",
    "\t\tself.n = n\n",
    "\t\tself.nodes = dict()\n",
    "\n",
    "\tdef add_edge(self, start, end):\n",
    "\t\tnode = Node(end, self.nodes.get(start))\n",
    "\t\tself.nodes[start] = node\n",
    "\n",
    "\t\tnode = Node(start, self.nodes.get(end))\n",
    "\t\tself.nodes[end] = node\n",
    "\n",
    "\tdef bidirectional_search(self, start, end):\n",
    "\t\tself.forward_queue = []\n",
    "\t\tself.backward_queue = []\n",
    "\n",
    "\t\tself.forward_visited = set()\n",
    "\t\tself.backward_visited = set()\n",
    "\n",
    "\t\tself.forward_node_parents = dict()\n",
    "\t\tself.backward_node_parents = dict()\n",
    "\n",
    "\t\tself.forward_queue.append(start)\n",
    "\t\tself.forward_visited.add(start)\n",
    "\n",
    "\t\tself.backward_queue.append(end)\n",
    "\t\tself.backward_visited.add(end)\n",
    "\n",
    "\t\twhile self.forward_queue and self.backward_queue:\n",
    "\n",
    "\t\t\tself.BFS(self.forward_queue, self.forward_visited,\n",
    "\t\t\t         self.forward_node_parents)\n",
    "\t\t\tself.BFS(self.backward_queue, self.backward_visited,\n",
    "\t\t\t         self.backward_node_parents)\n",
    "\n",
    "\t\t\tintersection = self.find_intersection()\n",
    "\n",
    "\t\t\tif intersection:\n",
    "\t\t\t\tself.print(start, intersection, end)\n",
    "\t\t\t\treturn\n",
    "\n",
    "\t\treturn None\n",
    "\n",
    "\tdef BFS(self, queue, visited, parents):\n",
    "\t\tcurrent_node = queue.pop(0)\n",
    "\t\tnext_node = self.nodes.get(current_node)\n",
    "\n",
    "\t\twhile next_node:\n",
    "\t\t\tif next_node.id not in visited:\n",
    "\t\t\t\tqueue.append(next_node.id)\n",
    "\t\t\t\tvisited.add(next_node.id)\n",
    "\t\t\t\tparents[next_node.id] = current_node\n",
    "\n",
    "\t\t\tnext_node = next_node.children\n",
    "\n",
    "\tdef find_intersection(self):\n",
    "\n",
    "\t\tfor node in self.nodes:\n",
    "\t\t\tif node in self.forward_visited and node in self.backward_visited:\n",
    "\t\t\t\treturn node\n",
    "\n",
    "\t\treturn None\n",
    "\n",
    "\tdef print(self, start, intersection, end):\n",
    "\n",
    "\t\tcurrent_node = intersection\n",
    "\t\tpath = [current_node]\n",
    "\n",
    "\t\twhile current_node != start:\n",
    "\t\t\tcurrent_node = self.forward_node_parents[current_node]\n",
    "\t\t\tpath.insert(0, current_node)\n",
    "\n",
    "\t\tcurrent_node = intersection\n",
    "\n",
    "\t\twhile current_node != end:\n",
    "\t\t\tcurrent_node = self.backward_node_parents[current_node]\n",
    "\t\t\tpath.append(current_node)\n",
    "\n",
    "\t\tprint(path)\n"
   ]
  },
  {
   "cell_type": "markdown",
   "metadata": {},
   "source": [
    "Our test case is the below graph.\n",
    "\n",
    "![Graph Problem 2](problem2.jpg)"
   ]
  },
  {
   "cell_type": "code",
   "execution_count": 29,
   "metadata": {},
   "outputs": [
    {
     "name": "stdout",
     "output_type": "stream",
     "text": [
      "['A', 'E', 'G', 'H', 'I', 'K', 'O']\n"
     ]
    }
   ],
   "source": [
    "\n",
    "\n",
    "n = 15\n",
    "\n",
    "graph = Graph(n)\n",
    "graph.add_edge('A', 'E')\n",
    "graph.add_edge('B', 'E')\n",
    "graph.add_edge('C', 'F')\n",
    "graph.add_edge('D', 'F')\n",
    "graph.add_edge('E', 'G')\n",
    "graph.add_edge('F', 'G')\n",
    "graph.add_edge('G', 'H')\n",
    "graph.add_edge('H', 'I')\n",
    "graph.add_edge('I', 'J')\n",
    "graph.add_edge('I', 'K')\n",
    "graph.add_edge('J', 'L')\n",
    "graph.add_edge('J', 'M')\n",
    "graph.add_edge('K', 'N')\n",
    "graph.add_edge('K', 'O')\n",
    "\n",
    "start = 'A'\n",
    "end = 'O'\n",
    "\n",
    "graph.bidirectional_search(start, end)\n"
   ]
  }
 ],
 "metadata": {
  "kernelspec": {
   "display_name": "Python 3 (ipykernel)",
   "language": "python",
   "name": "python3"
  },
  "language_info": {
   "codemirror_mode": {
    "name": "ipython",
    "version": 3
   },
   "file_extension": ".py",
   "mimetype": "text/x-python",
   "name": "python",
   "nbconvert_exporter": "python",
   "pygments_lexer": "ipython3",
   "version": "3.8.10"
  },
  "orig_nbformat": 4
 },
 "nbformat": 4,
 "nbformat_minor": 2
}

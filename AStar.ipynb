{
 "cells": [
  {
   "cell_type": "markdown",
   "metadata": {},
   "source": [
    "# A* Algorithm\n",
    "I constructed two classes for this matter. One is `Node`, which is responsible for calculating `f` and `g` and holding each node's parents to be able to find a path at the end.\n",
    "\n",
    "The second class is `Graph`, which only holds the adjacency matrix and heuristics."
   ]
  },
  {
   "cell_type": "code",
   "execution_count": 1,
   "metadata": {},
   "outputs": [],
   "source": [
    "class Node:\n",
    "\tdef __init__(self, id_, heuristic):\n",
    "\t\tself.id = id_\n",
    "\n",
    "\t\tself.parent = None\n",
    "\t\t\n",
    "\t\tself._g = 0\n",
    "\t\tself._h = heuristic\n",
    "\n",
    "\t@property\n",
    "\tdef g(self):\n",
    "\t\treturn self._g\n",
    "\n",
    "\t@property\n",
    "\tdef h(self):\n",
    "\t\treturn self._h\n",
    "\n",
    "\t@property\n",
    "\tdef f(self):\n",
    "\t\treturn self._f\n",
    "\n",
    "\t@f.setter\n",
    "\tdef f(self, f):\n",
    "\t\tself._f = f\n",
    "\n",
    "\t@g.setter\n",
    "\tdef g(self, g):\n",
    "\t\tself._g = g\n",
    "\t\tself.f = self.h + self.g\n",
    "\n",
    "\t@h.setter\n",
    "\tdef h(self, h):\n",
    "\t\tself._h = h\n",
    "\t\tself.f = self.h + self.g\n",
    "\n",
    "\tdef set_parent(self, node, distance):\n",
    "\t\tself.parent = node\n",
    "\t\tself.g = node.g + distance\n",
    "\n",
    "\tdef is_better_parent(self, node, distance):\n",
    "\t\tg = node.g + distance\n",
    "\t\tf = self.h + g\n",
    "\t\treturn f < self.f\n",
    "\n",
    "\n",
    "class Graph:\n",
    "\tdef __init__(self, adj, heuristics):\n",
    "\t\tself.adj = adj\n",
    "\t\tself.n = len(adj)\n",
    "\t\tself.heuristics = heuristics\n"
   ]
  },
  {
   "cell_type": "markdown",
   "metadata": {},
   "source": [
    "The actual algorithm is implemented below. We have a `used_nodes` dictionary in which collects created nodes so we could find which node has been seen before and update its parent (path to reach it) if it is better.\n",
    "\n",
    "We decide which node we should visit based on our priority queue, `queue`. It is sorted based on `f` value of each node. `f` is the sum of `g`, the cost of reaching to that node, and `h`, the heuristic (estimated cost of reaching goal from that node).\n",
    "\n",
    "At first, there is only the starting node in the queue, but as our loop execute, the first element of the queue (the node with the least `f`) gets popped. If the popped element (`q`) is the our target the loop breaks and we return the founded path. Otherwise, we check all of this nodes successors. If a successor has been visited before, we check if reaching it from q is better than how it was reached before and our metric is `f` (actually it is `g` because `h` is constant). If it is better, we change its parent to `q` and add itself to the queue. If a successor has not been checked yet, we create its node and make `q` its parent and add it to the queue.\n",
    "\n",
    "Finally, we return the last node, the target node, as the its ancestors are the best path to reach it."
   ]
  },
  {
   "cell_type": "code",
   "execution_count": 2,
   "metadata": {},
   "outputs": [],
   "source": [
    "def AStar_search(graph):\n",
    "\tused_nodes = dict()\n",
    "\tqueue = []\n",
    "\n",
    "\troot = Node(0, graph.heuristics[0])\n",
    "\n",
    "\tqueue.append(root)\n",
    "\n",
    "\twhile len(queue):\n",
    "\t\t# find the item with the least value and pop\n",
    "\t\tq = queue.pop(0)\n",
    "\n",
    "\t\tif q.id == graph.n - 1:\n",
    "\t\t\treturn q\n",
    "\n",
    "\t\tfor successor in range(graph.n):\n",
    "\t\t\tif graph.adj[q.id][successor] == -1:\n",
    "\t\t\t\tcontinue\n",
    "\n",
    "\t\t\tif successor in used_nodes.keys():\n",
    "\t\t\t\tnode = used_nodes[successor]\n",
    "\t\t\t\tif node.is_better_parent(q, graph.adj[q.id][node.id]):\n",
    "\t\t\t\t\tnode.set_parent(q, graph.adj[q.id][node.id])\n",
    "\t\t\t\t\tif node not in queue:\n",
    "\t\t\t\t\t\tqueue.append(node)\n",
    "\t\t\telse:\n",
    "\t\t\t\tnode = Node(successor, graph.heuristics[successor])\n",
    "\t\t\t\tnode.set_parent(q, graph.adj[q.id][node.id])\n",
    "\t\t\t\tused_nodes[successor] = node\n",
    "\t\t\t\tqueue.append(node)\n",
    "\t\t\n",
    "\tqueue = sorted(queue, key=lambda x: x.f)\n",
    "\t\n",
    "\treturn used_nodes[graph.n - 1]\n"
   ]
  },
  {
   "cell_type": "markdown",
   "metadata": {},
   "source": [
    "Here we have a function that prints the path based on the target node."
   ]
  },
  {
   "cell_type": "code",
   "execution_count": 3,
   "metadata": {},
   "outputs": [],
   "source": [
    "def print_path(node, names):\n",
    "\tif node.parent is None:\n",
    "\t\tprint('Path:', names[node.id], end=\"\")\n",
    "\t\treturn\n",
    "\tprint_path(node.parent, names)\n",
    "\tprint(\",\", names[node.id], end=\"\")\n"
   ]
  },
  {
   "cell_type": "markdown",
   "metadata": {},
   "source": [
    "Our test case is the below graph.\n",
    "\n",
    "\n",
    "![Graph Problem 1](problem1.jpg)"
   ]
  },
  {
   "cell_type": "code",
   "execution_count": 4,
   "metadata": {},
   "outputs": [
    {
     "name": "stdout",
     "output_type": "stream",
     "text": [
      "Cost: 10\n",
      "Path: A, F, G, I, J"
     ]
    }
   ],
   "source": [
    "adj = [\n",
    "\t[-1, 6, -1, -1, -1, 3, -1, -1, -1, -1],\n",
    "\t[6, -1, 3, 2, -1, -1, -1, -1, -1, -1],\n",
    "\t[-1, 3, -1, 1, 5, -1, -1, -1, -1, -1],\n",
    "\t[-1, 2, 1, -1, 8, -1, -1, -1, -1, -1],\n",
    "\t[-1, -1, 5, 8, -1, -1, -1, -1, 5, 5],\n",
    "\t[3, -1, -1, -1, -1, -1, 1, 7, -1, -1],\n",
    "\t[-1, -1, -1, -1, -1, 1, -1, -1, 3, -1],\n",
    "\t[-1, -1, -1, -1, -1, 7, -1, -1, 2, -1],\n",
    "\t[-1, -1, -1, -1, 5, -1, 3, 2, -1, 3],\n",
    "\t[-1, -1, -1, -1, -1, -1, -1, -1, -1, -1]\n",
    "]\n",
    "\n",
    "heuristics = [10, 8, 5, 7, 3, 6, 5, 3, 1, 0]\n",
    "\n",
    "names = ['A', 'B', 'C', 'D', 'E', 'F', 'G', 'H', 'I', 'J']\n",
    "\n",
    "graph = Graph(adj, heuristics)\n",
    "\n",
    "\n",
    "\n",
    "node = AStar_search(graph)\n",
    "print('Cost:', node.f)\n",
    "print_path(node, names)\n",
    "\n"
   ]
  }
 ],
 "metadata": {
  "kernelspec": {
   "display_name": "Python 3 (ipykernel)",
   "language": "python",
   "name": "python3"
  },
  "language_info": {
   "codemirror_mode": {
    "name": "ipython",
    "version": 3
   },
   "file_extension": ".py",
   "mimetype": "text/x-python",
   "name": "python",
   "nbconvert_exporter": "python",
   "pygments_lexer": "ipython3",
   "version": "3.8.10"
  }
 },
 "nbformat": 4,
 "nbformat_minor": 2
}
